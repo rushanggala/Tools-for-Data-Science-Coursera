{
 "cells": [
  {
   "cell_type": "markdown",
   "id": "c37cecad-363f-48ee-ad06-b9959c9187a2",
   "metadata": {},
   "source": [
    "# Data Science Tools and Ecosystem"
   ]
  },
  {
   "cell_type": "markdown",
   "id": "a97916f7-5830-4fbb-8ead-b71047ba57c3",
   "metadata": {},
   "source": [
    "In this notebook, Data Science Tools and Ecosystem are summarized."
   ]
  },
  {
   "cell_type": "markdown",
   "id": "e15612fb-8450-4990-b30b-84063c5568fa",
   "metadata": {},
   "source": [
    "Objectives:\n",
    "- List popular languages for Data Science.\n",
    "- List some common libraries used by Data Scientists.\n",
    "- List some Tools used in Data Science.\n",
    "- Give an example of arithmetic expressions in python."
   ]
  },
  {
   "cell_type": "markdown",
   "id": "f99b0417-1ee6-4675-836c-aecc7817992e",
   "metadata": {},
   "source": [
    "Some of the popular languages that Data Scientists use are:\n",
    "1. Python\n",
    "2. R\n",
    "3. SQL (Structured Query Language)\n",
    "4. Julia"
   ]
  },
  {
   "cell_type": "markdown",
   "id": "d0b951ff-d476-4083-8c2f-cc29be07178c",
   "metadata": {},
   "source": [
    "Some of the commonly used libraries used by Data Scientists include:\n",
    "1. NumPy\n",
    "2. Pandas\n",
    "3. Matplotlib\n",
    "4. Seaborn\n",
    "5. Caret"
   ]
  },
  {
   "cell_type": "markdown",
   "id": "794c294c-8292-402f-b44b-623c0dc7ac0e",
   "metadata": {},
   "source": [
    "| Data Science Tools |\n",
    "---------------------\n",
    "| Jupyter Notebooks |\n",
    "| R studio |\n",
    "| Visual Studio Code|\n"
   ]
  },
  {
   "cell_type": "markdown",
   "id": "305cf8f3-915f-449c-9864-1dcc4f7df791",
   "metadata": {},
   "source": [
    "### Below are a few examples of evaluating arithmetic expressions in Python.\n"
   ]
  },
  {
   "cell_type": "code",
   "execution_count": 1,
   "id": "bcec40c1-bed2-4377-8f65-9bfb9802e1d2",
   "metadata": {
    "tags": []
   },
   "outputs": [
    {
     "data": {
      "text/plain": [
       "17"
      ]
     },
     "execution_count": 1,
     "metadata": {},
     "output_type": "execute_result"
    }
   ],
   "source": [
    "#This a simple arithmetic expression to mutiply then add integers\n",
    "\n",
    "(3*4)+5"
   ]
  },
  {
   "cell_type": "code",
   "execution_count": 1,
   "id": "c9cf13fd-90f8-49ee-86ce-73a9bd0c92e0",
   "metadata": {
    "tags": []
   },
   "outputs": [
    {
     "data": {
      "text/plain": [
       "3.3333333333333335"
      ]
     },
     "execution_count": 1,
     "metadata": {},
     "output_type": "execute_result"
    }
   ],
   "source": [
    "#This will convert 200 minutes to hours by diving by 60\n",
    "\n",
    "minutes = 200\n",
    "hours = minutes / 60\n",
    "hours"
   ]
  },
  {
   "cell_type": "markdown",
   "id": "2176d6a1-18d4-4e13-9f3e-52fadd55f839",
   "metadata": {
    "tags": []
   },
   "source": [
    "## Author\n",
    "Rushang Gala"
   ]
  },
  {
   "cell_type": "code",
   "execution_count": null,
   "id": "400b6ac0-1890-4260-881e-909b8c38d074",
   "metadata": {},
   "outputs": [],
   "source": []
  }
 ],
 "metadata": {
  "kernelspec": {
   "display_name": "Python",
   "language": "python",
   "name": "conda-env-python-py"
  },
  "language_info": {
   "codemirror_mode": {
    "name": "ipython",
    "version": 3
   },
   "file_extension": ".py",
   "mimetype": "text/x-python",
   "name": "python",
   "nbconvert_exporter": "python",
   "pygments_lexer": "ipython3",
   "version": "3.7.12"
  }
 },
 "nbformat": 4,
 "nbformat_minor": 5
}
